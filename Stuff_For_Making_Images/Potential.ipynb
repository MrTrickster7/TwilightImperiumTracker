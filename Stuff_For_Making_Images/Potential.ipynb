{
 "cells": [
  {
   "cell_type": "markdown",
   "id": "07f71925",
   "metadata": {},
   "source": [
    "Fonts:\n",
    "    Logo/Title: Eurostile Bold Extened / Microgramma\n",
    "    Body Text: Myriad Pro\n",
    "    Flavor Text / Italics: Minion Pro\n",
    "    Fan Alternative: Bank Gothic or Orbitron\n",
    "    UI / Numbers DIN 1451 / Helvetica Neue\n",
    "\n",
    "Alternative Open-Source:\n",
    "    Eurostile /Microgramma: Orbitron\n",
    "        - yay -S ttf-orbitron\n",
    "    Myriad Pro: Noto Sans\n",
    "        - yay -S noto-fonts\n",
    "    Minion Pro: EB Garamond\n",
    "        - yay -S ttf-ebgaramond\n",
    "    Bank Gothic: Michroma\n",
    "        - yay -S ttf-michroma\n",
    "    \n",
    "    "
   ]
  }
 ],
 "metadata": {
  "language_info": {
   "name": "python"
  }
 },
 "nbformat": 4,
 "nbformat_minor": 5
}
